{
 "cells": [
  {
   "cell_type": "code",
   "execution_count": 2,
   "id": "f382363e",
   "metadata": {},
   "outputs": [
    {
     "data": {
      "text/plain": [
       "2025-10-08 17:40:30.778698    143.17\n",
       "2025-10-08 17:40:30.791266    141.93\n",
       "2025-10-08 17:40:30.803873    141.63\n",
       "2025-10-08 17:40:30.816432    141.83\n",
       "2025-10-08 17:40:30.828978    141.54\n",
       "                               ...  \n",
       "2025-10-08 17:40:42.940661    163.46\n",
       "2025-10-08 17:40:42.953209    167.07\n",
       "2025-10-08 17:40:42.964163    166.71\n",
       "2025-10-08 17:40:42.976709    171.90\n",
       "2025-10-08 17:40:42.988670    168.43\n",
       "Length: 1000, dtype: float64"
      ]
     },
     "execution_count": 2,
     "metadata": {},
     "output_type": "execute_result"
    }
   ],
   "source": [
    "from backtester.price_loader import PriceLoader\n",
    "\n",
    "x = PriceLoader()\n",
    "\n",
    "pd_series = x.load_data(\"backtester/data/market_data_1000.csv\")\n",
    "\n",
    "pd_series"
   ]
  },
  {
   "cell_type": "code",
   "execution_count": 4,
   "id": "66e835fe",
   "metadata": {},
   "outputs": [
    {
     "data": {
      "text/plain": [
       "2025-10-08 17:40:30.778698    0\n",
       "2025-10-08 17:40:30.791266    0\n",
       "2025-10-08 17:40:30.803873    0\n",
       "2025-10-08 17:40:30.816432    0\n",
       "2025-10-08 17:40:30.828978    0\n",
       "                             ..\n",
       "2025-10-08 17:40:42.940661    0\n",
       "2025-10-08 17:40:42.953209    1\n",
       "2025-10-08 17:40:42.964163    0\n",
       "2025-10-08 17:40:42.976709    1\n",
       "2025-10-08 17:40:42.988670   -1\n",
       "Length: 1000, dtype: int64"
      ]
     },
     "execution_count": 4,
     "metadata": {},
     "output_type": "execute_result"
    }
   ],
   "source": [
    "from backtester.strategy import VolatilityBreakoutStrategy\n",
    "\n",
    "strategy = VolatilityBreakoutStrategy()\n",
    "\n",
    "signals = strategy.signals(pd_series)\n",
    "\n",
    "signals\n"
   ]
  },
  {
   "cell_type": "code",
   "execution_count": null,
   "id": "0e9b5b3a",
   "metadata": {},
   "outputs": [],
   "source": []
  }
 ],
 "metadata": {
  "kernelspec": {
   "display_name": ".venv",
   "language": "python",
   "name": "python3"
  },
  "language_info": {
   "codemirror_mode": {
    "name": "ipython",
    "version": 3
   },
   "file_extension": ".py",
   "mimetype": "text/x-python",
   "name": "python",
   "nbconvert_exporter": "python",
   "pygments_lexer": "ipython3",
   "version": "3.13.7"
  }
 },
 "nbformat": 4,
 "nbformat_minor": 5
}
