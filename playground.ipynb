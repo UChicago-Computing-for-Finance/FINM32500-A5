{
 "cells": [
  {
   "cell_type": "code",
   "execution_count": 1,
   "id": "f382363e",
   "metadata": {},
   "outputs": [
    {
     "data": {
      "text/plain": [
       "2025-10-08 17:40:30.778698    143.17\n",
       "2025-10-08 17:40:30.791266    141.93\n",
       "2025-10-08 17:40:30.803873    141.63\n",
       "2025-10-08 17:40:30.816432    141.83\n",
       "2025-10-08 17:40:30.828978    141.54\n",
       "                               ...  \n",
       "2025-10-08 17:40:42.940661    163.46\n",
       "2025-10-08 17:40:42.953209    167.07\n",
       "2025-10-08 17:40:42.964163    166.71\n",
       "2025-10-08 17:40:42.976709    171.90\n",
       "2025-10-08 17:40:42.988670    168.43\n",
       "Length: 1000, dtype: float64"
      ]
     },
     "execution_count": 1,
     "metadata": {},
     "output_type": "execute_result"
    }
   ],
   "source": [
    "from backtester.price_loader import PriceLoader\n",
    "\n",
    "x = PriceLoader()\n",
    "\n",
    "pd_series = x.load_data(\"backtester/data/market_data_1000.csv\")\n",
    "\n",
    "pd_series"
   ]
  },
  {
   "cell_type": "code",
   "execution_count": 2,
   "id": "66e835fe",
   "metadata": {},
   "outputs": [
    {
     "data": {
      "text/plain": [
       "2025-10-08 17:40:30.778698    0\n",
       "2025-10-08 17:40:30.791266    0\n",
       "2025-10-08 17:40:30.803873    0\n",
       "2025-10-08 17:40:30.816432    0\n",
       "2025-10-08 17:40:30.828978    0\n",
       "                             ..\n",
       "2025-10-08 17:40:42.940661    0\n",
       "2025-10-08 17:40:42.953209    1\n",
       "2025-10-08 17:40:42.964163    0\n",
       "2025-10-08 17:40:42.976709    1\n",
       "2025-10-08 17:40:42.988670   -1\n",
       "Length: 1000, dtype: int64"
      ]
     },
     "execution_count": 2,
     "metadata": {},
     "output_type": "execute_result"
    }
   ],
   "source": [
    "import signal\n",
    "from backtester.strategy import VolatilityBreakoutStrategy\n",
    "\n",
    "strategy = VolatilityBreakoutStrategy()\n",
    "\n",
    "signals = strategy.signals(pd_series)\n",
    "\n",
    "signals"
   ]
  },
  {
   "cell_type": "code",
   "execution_count": 3,
   "id": "0e9b5b3a",
   "metadata": {},
   "outputs": [
    {
     "name": "stdout",
     "output_type": "stream",
     "text": [
      "no position\n"
     ]
    },
    {
     "ename": "ValueError",
     "evalue": "Insufficient position to sell 1 units: available position is 0",
     "output_type": "error",
     "traceback": [
      "\u001b[31m---------------------------------------------------------------------------\u001b[39m",
      "\u001b[31mValueError\u001b[39m                                Traceback (most recent call last)",
      "\u001b[36mCell\u001b[39m\u001b[36m \u001b[39m\u001b[32mIn[3]\u001b[39m\u001b[32m, line 9\u001b[39m\n\u001b[32m      5\u001b[39m strategy = VolatilityBreakoutStrategy()\n\u001b[32m      7\u001b[39m backtest = Backtester(strategy, broker)\n\u001b[32m----> \u001b[39m\u001b[32m9\u001b[39m \u001b[43mbacktest\u001b[49m\u001b[43m.\u001b[49m\u001b[43mrun\u001b[49m\u001b[43m(\u001b[49m\u001b[43mpd_series\u001b[49m\u001b[43m)\u001b[49m\n\u001b[32m     11\u001b[39m \u001b[38;5;28mprint\u001b[39m(broker.cash)\n\u001b[32m     12\u001b[39m \u001b[38;5;28mprint\u001b[39m(broker.position)\n",
      "\u001b[36mFile \u001b[39m\u001b[32m~/Documents/CHICAGO code/Sept + Winter/FINM - Computing for Finance/Assign/FINM32500-A5/backtester/engine.py:16\u001b[39m, in \u001b[36mBacktester.run\u001b[39m\u001b[34m(self, prices)\u001b[39m\n\u001b[32m     14\u001b[39m     \u001b[38;5;28mself\u001b[39m.broker.market_order(\u001b[33m\"\u001b[39m\u001b[33mBUY\u001b[39m\u001b[33m\"\u001b[39m, \u001b[32m1\u001b[39m, prices[timestamp])\n\u001b[32m     15\u001b[39m \u001b[38;5;28;01melif\u001b[39;00m signal == -\u001b[32m1\u001b[39m:\n\u001b[32m---> \u001b[39m\u001b[32m16\u001b[39m     \u001b[38;5;28;43mself\u001b[39;49m\u001b[43m.\u001b[49m\u001b[43mbroker\u001b[49m\u001b[43m.\u001b[49m\u001b[43mmarket_order\u001b[49m\u001b[43m(\u001b[49m\u001b[33;43m\"\u001b[39;49m\u001b[33;43mSELL\u001b[39;49m\u001b[33;43m\"\u001b[39;49m\u001b[43m,\u001b[49m\u001b[43m \u001b[49m\u001b[32;43m1\u001b[39;49m\u001b[43m,\u001b[49m\u001b[43m \u001b[49m\u001b[43mprices\u001b[49m\u001b[43m[\u001b[49m\u001b[43mtimestamp\u001b[49m\u001b[43m]\u001b[49m\u001b[43m)\u001b[49m\n\u001b[32m     17\u001b[39m \u001b[38;5;28;01melse\u001b[39;00m:\n\u001b[32m     18\u001b[39m     \u001b[38;5;28;01mpass\u001b[39;00m\n",
      "\u001b[36mFile \u001b[39m\u001b[32m~/Documents/CHICAGO code/Sept + Winter/FINM - Computing for Finance/Assign/FINM32500-A5/backtester/broker.py:22\u001b[39m, in \u001b[36mBroker.market_order\u001b[39m\u001b[34m(self, side, qty, price)\u001b[39m\n\u001b[32m     20\u001b[39m     \u001b[38;5;28;01melse\u001b[39;00m:\n\u001b[32m     21\u001b[39m         \u001b[38;5;28mprint\u001b[39m(\u001b[33m\"\u001b[39m\u001b[33mno position\u001b[39m\u001b[33m\"\u001b[39m)\n\u001b[32m---> \u001b[39m\u001b[32m22\u001b[39m         \u001b[38;5;28;01mraise\u001b[39;00m \u001b[38;5;167;01mValueError\u001b[39;00m(\u001b[33mf\u001b[39m\u001b[33m\"\u001b[39m\u001b[33mInsufficient position to sell \u001b[39m\u001b[38;5;132;01m{\u001b[39;00mqty\u001b[38;5;132;01m}\u001b[39;00m\u001b[33m units: available position is \u001b[39m\u001b[38;5;132;01m{\u001b[39;00m\u001b[38;5;28mself\u001b[39m.position\u001b[38;5;132;01m}\u001b[39;00m\u001b[33m\"\u001b[39m)\n\u001b[32m     23\u001b[39m \u001b[38;5;28;01melse\u001b[39;00m:\n\u001b[32m     24\u001b[39m     \u001b[38;5;28mprint\u001b[39m(\u001b[33m\"\u001b[39m\u001b[33munknown order side\u001b[39m\u001b[33m\"\u001b[39m)\n",
      "\u001b[31mValueError\u001b[39m: Insufficient position to sell 1 units: available position is 0"
     ]
    }
   ],
   "source": [
    "from backtester.engine import Backtester\n",
    "from backtester.broker import Broker\n",
    "\n",
    "broker = Broker()\n",
    "strategy = VolatilityBreakoutStrategy()\n",
    "\n",
    "backtest = Backtester(strategy, broker)\n",
    "\n",
    "backtest.run(pd_series)\n",
    "\n",
    "print(broker.cash)\n",
    "print(broker.position)"
   ]
  }
 ],
 "metadata": {
  "kernelspec": {
   "display_name": ".venv",
   "language": "python",
   "name": "python3"
  },
  "language_info": {
   "codemirror_mode": {
    "name": "ipython",
    "version": 3
   },
   "file_extension": ".py",
   "mimetype": "text/x-python",
   "name": "python",
   "nbconvert_exporter": "python",
   "pygments_lexer": "ipython3",
   "version": "3.13.7"
  }
 },
 "nbformat": 4,
 "nbformat_minor": 5
}
