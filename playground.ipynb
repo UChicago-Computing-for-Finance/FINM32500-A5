{
 "cells": [
  {
   "cell_type": "code",
   "execution_count": 1,
   "id": "f382363e",
   "metadata": {},
   "outputs": [
    {
     "data": {
      "text/plain": [
       "2025-10-08 17:40:30.778698    143.17\n",
       "2025-10-08 17:40:30.791266    141.93\n",
       "2025-10-08 17:40:30.803873    141.63\n",
       "2025-10-08 17:40:30.816432    141.83\n",
       "2025-10-08 17:40:30.828978    141.54\n",
       "                               ...  \n",
       "2025-10-08 17:40:42.940661    163.46\n",
       "2025-10-08 17:40:42.953209    167.07\n",
       "2025-10-08 17:40:42.964163    166.71\n",
       "2025-10-08 17:40:42.976709    171.90\n",
       "2025-10-08 17:40:42.988670    168.43\n",
       "Length: 1000, dtype: float64"
      ]
     },
     "execution_count": 1,
     "metadata": {},
     "output_type": "execute_result"
    }
   ],
   "source": [
    "from backtester.price_loader import PriceLoader\n",
    "\n",
    "x = PriceLoader()\n",
    "\n",
    "pd_series = x.load_data(\"backtester/data/market_data_1000.csv\")\n",
    "\n",
    "pd_series"
   ]
  },
  {
   "cell_type": "code",
   "execution_count": 2,
   "id": "66e835fe",
   "metadata": {},
   "outputs": [
    {
     "data": {
      "text/plain": [
       "2025-10-08 17:40:30.778698    0\n",
       "2025-10-08 17:40:30.791266    0\n",
       "2025-10-08 17:40:30.803873    0\n",
       "2025-10-08 17:40:30.816432    0\n",
       "2025-10-08 17:40:30.828978    0\n",
       "                             ..\n",
       "2025-10-08 17:40:42.940661    0\n",
       "2025-10-08 17:40:42.953209    1\n",
       "2025-10-08 17:40:42.964163    0\n",
       "2025-10-08 17:40:42.976709    1\n",
       "2025-10-08 17:40:42.988670   -1\n",
       "Length: 1000, dtype: int64"
      ]
     },
     "execution_count": 2,
     "metadata": {},
     "output_type": "execute_result"
    }
   ],
   "source": [
    "import signal\n",
    "from backtester.strategy import VolatilityBreakoutStrategy\n",
    "\n",
    "strategy = VolatilityBreakoutStrategy()\n",
    "\n",
    "signals = strategy.signals(pd_series)\n",
    "\n",
    "signals"
   ]
  },
  {
   "cell_type": "code",
   "execution_count": 3,
   "id": "0e9b5b3a",
   "metadata": {},
   "outputs": [
    {
     "name": "stdout",
     "output_type": "stream",
     "text": [
      "Order failed at 2025-10-08 17:40:31.051561: Insufficient position to sell 1 units: available position is 0\n",
      "Order failed at 2025-10-08 17:40:31.064128: Insufficient position to sell 1 units: available position is 0\n",
      "994128.3200000004\n",
      "33\n"
     ]
    }
   ],
   "source": [
    "from backtester.engine import Backtester\n",
    "from backtester.broker import Broker\n",
    "\n",
    "broker = Broker()\n",
    "strategy = VolatilityBreakoutStrategy()\n",
    "\n",
    "backtest = Backtester(strategy, broker)\n",
    "\n",
    "backtest.run(pd_series)\n",
    "\n",
    "print(broker.cash)\n",
    "print(broker.position)"
   ]
  },
  {
   "cell_type": "code",
   "execution_count": 4,
   "id": "93d7395f",
   "metadata": {},
   "outputs": [
    {
     "ename": "ValueError",
     "evalue": "Quantity must be positive: -1",
     "output_type": "error",
     "traceback": [
      "\u001b[31m---------------------------------------------------------------------------\u001b[39m",
      "\u001b[31mValueError\u001b[39m                                Traceback (most recent call last)",
      "\u001b[36mCell\u001b[39m\u001b[36m \u001b[39m\u001b[32mIn[4]\u001b[39m\u001b[32m, line 3\u001b[39m\n\u001b[32m      1\u001b[39m y = Broker()\n\u001b[32m----> \u001b[39m\u001b[32m3\u001b[39m \u001b[43my\u001b[49m\u001b[43m.\u001b[49m\u001b[43mmarket_order\u001b[49m\u001b[43m(\u001b[49m\u001b[33;43m\"\u001b[39;49m\u001b[33;43mBUY\u001b[39;49m\u001b[33;43m\"\u001b[39;49m\u001b[43m,\u001b[49m\u001b[43m \u001b[49m\u001b[43m-\u001b[49m\u001b[32;43m1\u001b[39;49m\u001b[43m,\u001b[49m\u001b[43m \u001b[49m\u001b[32;43m10\u001b[39;49m\u001b[43m)\u001b[49m\n",
      "\u001b[36mFile \u001b[39m\u001b[32m~/Documents/CHICAGO code/Sept + Winter/FINM - Computing for Finance/Assign/FINM32500-A5/backtester/broker.py:10\u001b[39m, in \u001b[36mBroker.market_order\u001b[39m\u001b[34m(self, side, qty, price)\u001b[39m\n\u001b[32m      6\u001b[39m \u001b[38;5;28;01mdef\u001b[39;00m\u001b[38;5;250m \u001b[39m\u001b[34mmarket_order\u001b[39m(\u001b[38;5;28mself\u001b[39m, side: \u001b[38;5;28mstr\u001b[39m, qty: \u001b[38;5;28mint\u001b[39m, price: \u001b[38;5;28mfloat\u001b[39m):\n\u001b[32m      7\u001b[39m \n\u001b[32m      8\u001b[39m     \u001b[38;5;66;03m# try:\u001b[39;00m\n\u001b[32m      9\u001b[39m         \u001b[38;5;28;01mif\u001b[39;00m qty <= \u001b[32m0\u001b[39m:\n\u001b[32m---> \u001b[39m\u001b[32m10\u001b[39m             \u001b[38;5;28;01mraise\u001b[39;00m \u001b[38;5;167;01mValueError\u001b[39;00m(\u001b[33mf\u001b[39m\u001b[33m\"\u001b[39m\u001b[33mQuantity must be positive: \u001b[39m\u001b[38;5;132;01m{\u001b[39;00mqty\u001b[38;5;132;01m}\u001b[39;00m\u001b[33m\"\u001b[39m)\n\u001b[32m     11\u001b[39m         \u001b[38;5;28;01mif\u001b[39;00m price <= \u001b[32m0\u001b[39m:\n\u001b[32m     12\u001b[39m             \u001b[38;5;28;01mraise\u001b[39;00m \u001b[38;5;167;01mValueError\u001b[39;00m(\u001b[33mf\u001b[39m\u001b[33m\"\u001b[39m\u001b[33mPrice must be positive: \u001b[39m\u001b[38;5;132;01m{\u001b[39;00mprice\u001b[38;5;132;01m}\u001b[39;00m\u001b[33m\"\u001b[39m)\n",
      "\u001b[31mValueError\u001b[39m: Quantity must be positive: -1"
     ]
    }
   ],
   "source": [
    "y = Broker()\n",
    "\n",
    "y.market_order(\"BUY\", -1, 10)"
   ]
  },
  {
   "cell_type": "code",
   "execution_count": null,
   "id": "6aa9e1be",
   "metadata": {},
   "outputs": [],
   "source": []
  }
 ],
 "metadata": {
  "kernelspec": {
   "display_name": ".venv",
   "language": "python",
   "name": "python3"
  },
  "language_info": {
   "codemirror_mode": {
    "name": "ipython",
    "version": 3
   },
   "file_extension": ".py",
   "mimetype": "text/x-python",
   "name": "python",
   "nbconvert_exporter": "python",
   "pygments_lexer": "ipython3",
   "version": "3.13.7"
  }
 },
 "nbformat": 4,
 "nbformat_minor": 5
}
